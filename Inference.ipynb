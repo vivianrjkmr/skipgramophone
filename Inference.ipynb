{
 "cells": [
  {
   "cell_type": "markdown",
   "metadata": {},
   "source": [
    "## Inference"
   ]
  },
  {
   "cell_type": "code",
   "execution_count": 1,
   "metadata": {},
   "outputs": [],
   "source": [
    "# imports\n",
    "import numpy as np\n",
    "import random\n",
    "import pickle"
   ]
  },
  {
   "cell_type": "code",
   "execution_count": 2,
   "metadata": {},
   "outputs": [],
   "source": [
    "experiment_name = \"experiment_defaults\" # experiment directory\n",
    "random.seed(42)"
   ]
  },
  {
   "cell_type": "markdown",
   "metadata": {},
   "source": [
    "### Load Tokenizer and Embeddings"
   ]
  },
  {
   "cell_type": "code",
   "execution_count": 3,
   "metadata": {},
   "outputs": [
    {
     "data": {
      "text/plain": [
       "['the pigeon detectives - unforgettable',\n",
       " 'young money - bedrock',\n",
       " 'you me at six - fireworks',\n",
       " 'gin wigmore - devil in me',\n",
       " 'snow patrol - chasing cars']"
      ]
     },
     "execution_count": 3,
     "metadata": {},
     "output_type": "execute_result"
    }
   ],
   "source": [
    "# load tokenizer\n",
    "tokenizer = pickle.load(open(experiment_name + \"/data/tokenizer.pkl\", \"rb\"))\n",
    "random.sample(list(tokenizer.word_index.keys()), 5)"
   ]
  },
  {
   "cell_type": "code",
   "execution_count": 4,
   "metadata": {},
   "outputs": [
    {
     "name": "stdout",
     "output_type": "stream",
     "text": [
      "bloc party - one month off\n",
      "bloc party - helicopter\n",
      "bloc party - hunting for witches\n",
      "bloc party - i still remember\n",
      "bloc party - on\n",
      "bloc party - signs\n"
     ]
    }
   ],
   "source": [
    "# search for tracks / artists\n",
    "for track_name in tokenizer.word_index.keys():\n",
    "    if \"bloc party\" in track_name:\n",
    "        print(track_name)"
   ]
  },
  {
   "cell_type": "code",
   "execution_count": 5,
   "metadata": {},
   "outputs": [
    {
     "name": "stdout",
     "output_type": "stream",
     "text": [
      "embeddings shape: (8630, 100)\n"
     ]
    }
   ],
   "source": [
    "# load embeddings\n",
    "embedding_weights = pickle.load(open(experiment_name + \"/embeddings.pkl\", \"rb\"))\n",
    "print(\"embeddings shape:\", embedding_weights.shape)"
   ]
  },
  {
   "cell_type": "markdown",
   "metadata": {},
   "source": [
    "### Get top-n most similar tracks"
   ]
  },
  {
   "cell_type": "code",
   "execution_count": 6,
   "metadata": {},
   "outputs": [],
   "source": [
    "# specify track name and top n\n",
    "track_name = \"bloc party - helicopter\"\n",
    "n = 10"
   ]
  },
  {
   "cell_type": "code",
   "execution_count": 7,
   "metadata": {},
   "outputs": [
    {
     "name": "stdout",
     "output_type": "stream",
     "text": [
      "top 10 tracks most similar to 'bloc party - helicopter' (pos. 5053):\n",
      "- (sim. 0.492): 'pierce the veil - hell above' (pos. 657)\n",
      "- (sim. 0.411): 'kanye west - hell of a life' (pos. 5055)\n",
      "- (sim. 0.382): 'markus krunegård - hela livet var ett disco' (pos. 5050)\n",
      "- (sim. 0.344): 'filthy - magnolian' (pos. 6351)\n",
      "- (sim. 0.335): 'massive attack - angel' (pos. 273)\n",
      "- (sim. 0.335): 'foo fighters - cheer up, boys (your make up is running)' (pos. 3663)\n",
      "- (sim. 0.323): 'the novaks - rain, rain, rain' (pos. 7297)\n",
      "- (sim. 0.318): 'daft punk - teachers' (pos. 1448)\n",
      "- (sim. 0.315): 'the airborne toxic event - hell and back' (pos. 5054)\n",
      "- (sim. 0.310): 'foster the people - helena beat' (pos. 5052)\n"
     ]
    }
   ],
   "source": [
    "# get track embedding\n",
    "track_idx = tokenizer.word_index[track_name]\n",
    "track_vector = embedding_weights[track_idx, :].reshape(1, -1)\n",
    "\n",
    "# compute similarities against other tracks\n",
    "similarities = np.dot(track_vector, embedding_weights.T) / (np.linalg.norm(track_vector) * np.linalg.norm(embedding_weights, axis=1))\n",
    "similarities = similarities.reshape(-1)\n",
    "\n",
    "# get most similar tracks' indices\n",
    "most_similar_idxs = np.argpartition(similarities, -(n+1))[-(n+1):]\n",
    "most_similar_idxs = most_similar_idxs[np.argsort(similarities[most_similar_idxs])][::-1][1:]\n",
    "\n",
    "# print most similar tracks, along with their positions in training data\n",
    "print(\"top {} tracks most similar to '{}' (pos. {}):\".format(n, track_name, track_idx))\n",
    "for idx in most_similar_idxs:\n",
    "    print(\"- (sim. {:.3f}): '{}' (pos. {})\".format(similarities[idx], tokenizer.index_word[idx], idx))"
   ]
  }
 ],
 "metadata": {
  "kernelspec": {
   "display_name": "Python 3",
   "language": "python",
   "name": "python3"
  },
  "language_info": {
   "codemirror_mode": {
    "name": "ipython",
    "version": 3
   },
   "file_extension": ".py",
   "mimetype": "text/x-python",
   "name": "python",
   "nbconvert_exporter": "python",
   "pygments_lexer": "ipython3",
   "version": "3.7.6"
  }
 },
 "nbformat": 4,
 "nbformat_minor": 4
}
